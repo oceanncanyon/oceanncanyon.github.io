{
 "cells": [
  {
   "cell_type": "code",
   "execution_count": 21,
   "metadata": {},
   "outputs": [],
   "source": [
    "import os\n",
    "from subprocess import Popen\n",
    "import sys\n",
    "\n",
    "inFile = 'Mall Customer Segmentation Data (Kmeans , TSNE, AggClu-Hierarchy, DBSCAN, MeanShift)'\n",
    "Popen('jupyter nbconvert '+inFile +' --template basic', shell=True).wait()\n",
    "newFile = os.path.splitext(inFile)[0]+'.ipynb'\n",
    "\n",
    "template = open('template.html', 'r').read()\n",
    "\n",
    "read_navbar = open('navbar.txt', 'r').read()\n",
    "read_css = open('main_css.txt', 'r').read()\n",
    "read_gs = open('main_js.txt','r').read()\n",
    "read_body = open(newFile, 'r').read()\n",
    "read_mathjax = open('mathjax.txt', 'r').read()\n",
    "\n",
    "template = template.replace(\"navbar_block\", \"\\n\" + read_navbar + \"\\n\")\n",
    "template = template.replace(\"js_block\", \"\\n\" + read_gs + \"\\n\")\n",
    "template = template.replace(\"css_block\", \"\\n\" + read_css + \"\\n\")\n",
    "template = template.replace(\"body_block\", \"\\n\" + read_body + \"\\n\")\n",
    "template = template.replace(\"math_block\", \"\\n\" + read_mathjax + \"\\n\")\n",
    "\n",
    "with open(newFile, 'w') as f:\n",
    "    f.write(template)"
   ]
  },
  {
   "cell_type": "code",
   "execution_count": 12,
   "metadata": {},
   "outputs": [
    {
     "ename": "FileNotFoundError",
     "evalue": "[Errno 2] No such file or directory: '-f'",
     "output_type": "error",
     "traceback": [
      "\u001b[0;31m---------------------------------------------------------------------------\u001b[0m",
      "\u001b[0;31mFileNotFoundError\u001b[0m                         Traceback (most recent call last)",
      "\u001b[0;32m<ipython-input-12-5e77bf452752>\u001b[0m in \u001b[0;36m<module>\u001b[0;34m\u001b[0m\n\u001b[1;32m      5\u001b[0m \u001b[0mnotebook_file\u001b[0m \u001b[0;34m=\u001b[0m \u001b[0msys\u001b[0m\u001b[0;34m.\u001b[0m\u001b[0margv\u001b[0m\u001b[0;34m[\u001b[0m\u001b[0;36m1\u001b[0m\u001b[0;34m]\u001b[0m\u001b[0;34m\u001b[0m\u001b[0;34m\u001b[0m\u001b[0m\n\u001b[1;32m      6\u001b[0m \u001b[0mhtml_exporter\u001b[0m \u001b[0;34m=\u001b[0m \u001b[0mHTMLExporter\u001b[0m\u001b[0;34m(\u001b[0m\u001b[0;34m)\u001b[0m\u001b[0;34m\u001b[0m\u001b[0;34m\u001b[0m\u001b[0m\n\u001b[0;32m----> 7\u001b[0;31m \u001b[0mnb\u001b[0m \u001b[0;34m=\u001b[0m \u001b[0mnbformat\u001b[0m\u001b[0;34m.\u001b[0m\u001b[0mreads\u001b[0m\u001b[0;34m(\u001b[0m\u001b[0mopen\u001b[0m\u001b[0;34m(\u001b[0m\u001b[0mnotebook_file\u001b[0m\u001b[0;34m,\u001b[0m \u001b[0;34m'r'\u001b[0m\u001b[0;34m)\u001b[0m\u001b[0;34m.\u001b[0m\u001b[0mread\u001b[0m\u001b[0;34m(\u001b[0m\u001b[0;34m)\u001b[0m\u001b[0;34m,\u001b[0m \u001b[0mas_version\u001b[0m\u001b[0;34m=\u001b[0m\u001b[0;36m4\u001b[0m\u001b[0;34m)\u001b[0m\u001b[0;34m\u001b[0m\u001b[0;34m\u001b[0m\u001b[0m\n\u001b[0m\u001b[1;32m      8\u001b[0m \u001b[0;34m\u001b[0m\u001b[0m\n\u001b[1;32m      9\u001b[0m \u001b[0;34m(\u001b[0m\u001b[0mbody\u001b[0m\u001b[0;34m,\u001b[0m \u001b[0mresources\u001b[0m\u001b[0;34m)\u001b[0m \u001b[0;34m=\u001b[0m \u001b[0mhtml_exporter\u001b[0m\u001b[0;34m.\u001b[0m\u001b[0mfrom_notebook_node\u001b[0m\u001b[0;34m(\u001b[0m\u001b[0mnb\u001b[0m\u001b[0;34m)\u001b[0m\u001b[0;34m\u001b[0m\u001b[0;34m\u001b[0m\u001b[0m\n",
      "\u001b[0;31mFileNotFoundError\u001b[0m: [Errno 2] No such file or directory: '-f'"
     ]
    }
   ],
   "source": [
    "import sys\n",
    "from nbconvert import HTMLExporter\n",
    "import nbformat\n",
    "\n",
    "notebook_file = sys.argv[1]\n",
    "html_exporter = HTMLExporter()\n",
    "nb = nbformat.reads(open(notebook_file, 'r').read(), as_version=4)\n",
    "\n",
    "(body, resources) = html_exporter.from_notebook_node(nb)\n",
    "html_file = notebook_file.replace(\".ipynb\", \".html\")\n",
    "html_file_writer = open(html_file, 'w')\n",
    "html_file_writer.write(body)\n",
    "html_file_writer.close()"
   ]
  },
  {
   "cell_type": "code",
   "execution_count": 17,
   "metadata": {},
   "outputs": [
    {
     "data": {
      "text/plain": [
       "'/Users/warren/warrenwang_portfolio/project/python'"
      ]
     },
     "execution_count": 17,
     "metadata": {},
     "output_type": "execute_result"
    }
   ],
   "source": [
    "inFile=\n",
    "os.path.splitext(inFile)"
   ]
  },
  {
   "cell_type": "code",
   "execution_count": 19,
   "metadata": {},
   "outputs": [],
   "source": [
    "?sys.argv"
   ]
  },
  {
   "cell_type": "code",
   "execution_count": null,
   "metadata": {},
   "outputs": [],
   "source": []
  }
 ],
 "metadata": {
  "kernelspec": {
   "display_name": "Python 3",
   "language": "python",
   "name": "python3"
  },
  "language_info": {
   "codemirror_mode": {
    "name": "ipython",
    "version": 3
   },
   "file_extension": ".py",
   "mimetype": "text/x-python",
   "name": "python",
   "nbconvert_exporter": "python",
   "pygments_lexer": "ipython3",
   "version": "3.7.3"
  },
  "toc": {
   "base_numbering": 1,
   "nav_menu": {},
   "number_sections": true,
   "sideBar": true,
   "skip_h1_title": false,
   "title_cell": "Table of Contents",
   "title_sidebar": "Contents",
   "toc_cell": false,
   "toc_position": {},
   "toc_section_display": true,
   "toc_window_display": false
  }
 },
 "nbformat": 4,
 "nbformat_minor": 2
}
